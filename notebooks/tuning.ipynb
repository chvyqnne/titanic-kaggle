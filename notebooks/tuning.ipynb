{
 "cells": [
  {
   "cell_type": "markdown",
   "metadata": {},
   "source": [
    "# Model Tuning\n",
    "Hyperparameter tuning logic for models"
   ]
  },
  {
   "cell_type": "code",
   "execution_count": 33,
   "metadata": {},
   "outputs": [],
   "source": [
    "import sys\n",
    "import os\n",
    "\n",
    "sys.path.append(os.path.abspath('../src'))\n",
    "\n",
    "import pandas as pd\n",
    "from sklearn.model_selection import train_test_split\n",
    "from sklearn.metrics import f1_score, precision_score, recall_score, accuracy_score\n",
    "from sklearn.preprocessing import StandardScaler\n",
    "from eda import preprocess_data\n",
    "from tuning import (\n",
    "    grid_search_logistic_regression,\n",
    "    grid_search_random_forest,\n",
    "    grid_search_gradient_boosting,\n",
    "    grid_search_knn\n",
    ")\n",
    "from models import evaluate_model\n",
    "from matplotlib import pyplot as plt"
   ]
  },
  {
   "cell_type": "markdown",
   "id": "527d51b7",
   "metadata": {},
   "source": [
    "## Load and Preprocess Data"
   ]
  },
  {
   "cell_type": "code",
   "execution_count": 34,
   "metadata": {},
   "outputs": [],
   "source": [
    "df = pd.read_csv('../data/train.csv')\n",
    "processed = preprocess_data(df)\n",
    "X = processed.drop(columns=['Survived'])\n",
    "y = processed['Survived']\n",
    "scaler = StandardScaler()\n",
    "X_scaled = scaler.fit_transform(X)\n",
    "X_train, X_val, y_train, y_val = train_test_split(X_scaled, y, test_size=0.2, random_state=42)"
   ]
  },
  {
   "cell_type": "code",
   "execution_count": 35,
   "id": "de83b535",
   "metadata": {},
   "outputs": [],
   "source": [
    "metrics = {\n",
    "    'Model': [],\n",
    "    'Accuracy': [],\n",
    "    'Precision': [],\n",
    "    'Recall': [],\n",
    "    'F1 Score': []\n",
    "}\n",
    "\n",
    "def collect_metrics(model_name, y_true, y_pred, metrics_dict):\n",
    "    metrics_dict['Model'].append(model_name)\n",
    "    metrics_dict['Accuracy'].append(accuracy_score(y_true, y_pred))\n",
    "    metrics_dict['Precision'].append(precision_score(y_true, y_pred))\n",
    "    metrics_dict['Recall'].append(recall_score(y_true, y_pred))\n",
    "    metrics_dict['F1 Score'].append(f1_score(y_true, y_pred))"
   ]
  },
  {
   "cell_type": "markdown",
   "id": "5abdf14e",
   "metadata": {},
   "source": [
    "## Logistic Regression"
   ]
  },
  {
   "cell_type": "code",
   "execution_count": 36,
   "metadata": {},
   "outputs": [
    {
     "name": "stdout",
     "output_type": "stream",
     "text": [
      "\n",
      "--- Grid Search: Logistic Regression ---\n",
      "Best Parameters: {'C': 0.1, 'class_weight': 'balanced', 'solver': 'liblinear'}\n",
      "Best F1 Score (CV): 0.7315\n",
      "Accuracy:  0.8045\n",
      "Precision: 0.7349\n",
      "Recall:    0.8243\n",
      "F1 Score:  0.7771\n",
      "Confusion Matrix:\n",
      "[[83 22]\n",
      " [13 61]]\n",
      "\n",
      "Classification Report:\n",
      "              precision    recall  f1-score   support\n",
      "\n",
      "           0       0.86      0.79      0.83       105\n",
      "           1       0.73      0.82      0.78        74\n",
      "\n",
      "    accuracy                           0.80       179\n",
      "   macro avg       0.80      0.81      0.80       179\n",
      "weighted avg       0.81      0.80      0.81       179\n",
      "\n"
     ]
    }
   ],
   "source": [
    "best_lr = grid_search_logistic_regression(X_train, y_train)\n",
    "y_pred_lr = best_lr.predict(X_val)\n",
    "evaluate_model(y_val, y_pred_lr)\n",
    "collect_metrics('Logistic Regression', y_val, y_pred_lr, metrics)"
   ]
  },
  {
   "cell_type": "markdown",
   "id": "a79a4506",
   "metadata": {},
   "source": [
    "## Random Forest"
   ]
  },
  {
   "cell_type": "code",
   "execution_count": 37,
   "metadata": {},
   "outputs": [
    {
     "name": "stdout",
     "output_type": "stream",
     "text": [
      "\n",
      "--- Grid Search: Random Forest ---\n",
      "Best Parameters: {'max_depth': 10, 'min_samples_split': 2, 'n_estimators': 100}\n",
      "Best F1 Score (CV): 0.7528\n",
      "Accuracy:  0.8212\n",
      "Precision: 0.8387\n",
      "Recall:    0.7027\n",
      "F1 Score:  0.7647\n",
      "Confusion Matrix:\n",
      "[[95 10]\n",
      " [22 52]]\n",
      "\n",
      "Classification Report:\n",
      "              precision    recall  f1-score   support\n",
      "\n",
      "           0       0.81      0.90      0.86       105\n",
      "           1       0.84      0.70      0.76        74\n",
      "\n",
      "    accuracy                           0.82       179\n",
      "   macro avg       0.83      0.80      0.81       179\n",
      "weighted avg       0.82      0.82      0.82       179\n",
      "\n"
     ]
    }
   ],
   "source": [
    "best_rf = grid_search_random_forest(X_train, y_train)\n",
    "y_pred_rf = best_rf.predict(X_val)\n",
    "evaluate_model(y_val, y_pred_rf)\n",
    "collect_metrics('Random Forest', y_val, y_pred_rf, metrics)"
   ]
  },
  {
   "cell_type": "markdown",
   "id": "1574bf9d",
   "metadata": {},
   "source": [
    "## Gradient Boosting"
   ]
  },
  {
   "cell_type": "code",
   "execution_count": 38,
   "metadata": {},
   "outputs": [
    {
     "name": "stdout",
     "output_type": "stream",
     "text": [
      "\n",
      "--- Grid Search: Gradient Boosting ---\n",
      "Best Parameters: {'learning_rate': 0.05, 'max_depth': 5, 'n_estimators': 100, 'subsample': 0.8}\n",
      "Best F1 Score (CV): 0.7529\n",
      "Accuracy:  0.8212\n",
      "Precision: 0.8088\n",
      "Recall:    0.7432\n",
      "F1 Score:  0.7746\n",
      "Confusion Matrix:\n",
      "[[92 13]\n",
      " [19 55]]\n",
      "\n",
      "Classification Report:\n",
      "              precision    recall  f1-score   support\n",
      "\n",
      "           0       0.83      0.88      0.85       105\n",
      "           1       0.81      0.74      0.77        74\n",
      "\n",
      "    accuracy                           0.82       179\n",
      "   macro avg       0.82      0.81      0.81       179\n",
      "weighted avg       0.82      0.82      0.82       179\n",
      "\n"
     ]
    }
   ],
   "source": [
    "best_gb = grid_search_gradient_boosting(X_train, y_train)\n",
    "y_pred_gb = best_gb.predict(X_val)\n",
    "evaluate_model(y_val, y_pred_gb)\n",
    "collect_metrics('Gradient Boosting', y_val, y_pred_gb, metrics)"
   ]
  },
  {
   "cell_type": "markdown",
   "id": "e74ac2c6",
   "metadata": {},
   "source": [
    "## K-Nearest Neighbors"
   ]
  },
  {
   "cell_type": "code",
   "execution_count": 39,
   "metadata": {},
   "outputs": [
    {
     "name": "stdout",
     "output_type": "stream",
     "text": [
      "\n",
      "--- Grid Search: KNN ---\n",
      "Best Parameters: {'n_neighbors': 9, 'p': 1, 'weights': 'distance'}\n",
      "Best F1 Score (CV): 0.7350\n",
      "Accuracy:  0.7877\n",
      "Precision: 0.7571\n",
      "Recall:    0.7162\n",
      "F1 Score:  0.7361\n",
      "Confusion Matrix:\n",
      "[[88 17]\n",
      " [21 53]]\n",
      "\n",
      "Classification Report:\n",
      "              precision    recall  f1-score   support\n",
      "\n",
      "           0       0.81      0.84      0.82       105\n",
      "           1       0.76      0.72      0.74        74\n",
      "\n",
      "    accuracy                           0.79       179\n",
      "   macro avg       0.78      0.78      0.78       179\n",
      "weighted avg       0.79      0.79      0.79       179\n",
      "\n"
     ]
    }
   ],
   "source": [
    "best_knn = grid_search_knn(X_train, y_train)\n",
    "y_pred_knn = best_knn.predict(X_val)\n",
    "evaluate_model(y_val, y_pred_knn)\n",
    "collect_metrics('KNN', y_val, y_pred_knn, metrics)"
   ]
  },
  {
   "cell_type": "markdown",
   "id": "d44541be",
   "metadata": {},
   "source": [
    "# Evaluation"
   ]
  },
  {
   "cell_type": "code",
   "execution_count": 32,
   "id": "7041aeb1",
   "metadata": {},
   "outputs": [
    {
     "name": "stdout",
     "output_type": "stream",
     "text": [
      "                 Model  Accuracy  Precision    Recall  F1 Score\n",
      "0    Gradient Boosting  0.832402   0.823529  0.756757  0.788732\n",
      "1  Logistic Regression  0.804469   0.734940  0.824324  0.777070\n",
      "2        Random Forest  0.821229   0.838710  0.702703  0.764706\n",
      "3                  KNN  0.787709   0.757143  0.716216  0.736111\n"
     ]
    },
    {
     "data": {
      "image/png": "[encoded data removed]",
      "text/plain": [
       "<Figure size 1000x600 with 1 Axes>"
      ]
     },
     "metadata": {},
     "output_type": "display_data"
    }
   ],
   "source": [
    "metrics_df = pd.DataFrame(metrics)\n",
    "metrics_df = metrics_df.sort_values(by='F1 Score', ascending=False)\n",
    "metrics_df.reset_index(drop=True, inplace=True)\n",
    "print(metrics_df)\n",
    "\n",
    "metrics_df.set_index('Model')[['Accuracy', 'Precision', 'Recall', 'F1 Score']].plot(\n",
    "    kind='bar', figsize=(10, 6), colormap='Set2'\n",
    ")\n",
    "plt.title('Model Performance Comparison')\n",
    "plt.ylabel('Score')\n",
    "plt.ylim(0, 1)\n",
    "plt.xticks(rotation=45)\n",
    "plt.grid(axis='y')\n",
    "plt.tight_layout()\n",
    "plt.show()"
   ]
  },
  {
   "cell_type": "markdown",
   "id": "4d953dc9",
   "metadata": {},
   "source": [
    "## Model-by-Model Analysis\n",
    "\n",
    "### Gradient Boosting\n",
    "- Highest F1 score (0.789) and accuracy (0.832)\n",
    "- Strong balance between precision (0.824) and recall (0.757)\n",
    "- Suggests this model generalizes well and makes balanced decisions between FPs and FNs\n",
    "\n",
    "### Logistic Regression\n",
    "- Highest recall (0.824): successfully identifies most survivors\n",
    "- Lower precision (0.735), more FPs\n",
    "- Solid accuracy (0.804), F1 score close to top\n",
    "\n",
    "### Random Forest\n",
    "- Highest precision (0.839) but lowest recall (0.703)\n",
    "- F1 score (0.765) descent but trails Gradient Boosting model\n",
    "- Slightly more conservative with fewer FPs and more FNs\n",
    "\n",
    "### K-Nearest Neighbors\n",
    "- Lowest F1 score (0.736) and accuracy (0.788) of all four\n",
    "- Underperforms in both precision and recall\n",
    "- Not good candidate for ensembling\n",
    "\n",
    "## Summary Recommendation\n",
    "\n",
    "General Performance: Gradient Boosting  \n",
    "Maximize Recall: Logistic Regression  \n",
    "Maximize Precision: Random Forest  \n"
   ]
  }
 ],
 "metadata": {
  "kernelspec": {
   "display_name": "venv",
   "language": "python",
   "name": "python3"
  },
  "language_info": {
   "codemirror_mode": {
    "name": "ipython",
    "version": 3
   },
   "file_extension": ".py",
   "mimetype": "text/x-python",
   "name": "python",
   "nbconvert_exporter": "python",
   "pygments_lexer": "ipython3",
   "version": "3.13.3"
  }
 },
 "nbformat": 4,
 "nbformat_minor": 5
}
